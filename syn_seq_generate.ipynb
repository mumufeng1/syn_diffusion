{
 "cells": [
  {
   "cell_type": "code",
   "execution_count": 1,
   "metadata": {
    "collapsed": true
   },
   "outputs": [],
   "source": [
    "from torch.utils.data import DataLoader, Dataset\n",
    "import torchvision.transforms as T\n",
    "import torch\n",
    "from IPython.display import display\n",
    "import torch.nn as nn\n",
    "from torchvision.utils import make_grid\n",
    "from torchvision.utils import save_image\n",
    "from IPython.display import Image\n",
    "import matplotlib.pyplot as plt\n",
    "import numpy as np\n",
    "import random\n",
    "import pandas as pd\n",
    "from tqdm import tqdm_notebook\n",
    "import seaborn as sns\n",
    "import matplotlib.pyplot as plt\n",
    "from torch.nn.modules.activation import ReLU\n",
    "from torch.optim import Adam\n",
    "from tqdm import tqdm_notebook\n",
    "from torchvision.utils import save_image\n",
    "import matplotlib\n",
    "import math\n",
    "from inspect import isfunction\n",
    "from functools import partial\n",
    "import scipy\n",
    "from scipy.special import rel_entr\n",
    "from torch import nn, einsum\n",
    "import torch.nn.functional as F\n",
    "import matplotlib.pyplot as plt\n",
    "from tqdm.auto import tqdm\n",
    "from einops import rearrange\n",
    "from einops.layers.torch import Rearrange\n",
    "from torch import nn, einsum\n",
    "import torch.nn.functional as F\n",
    "import matplotlib.animation as animation\n",
    "import matplotlib.image as mpimg\n",
    "import glob\n",
    "from PIL import Image\n",
    "from func import *\n",
    "from diffusion_func import *"
   ]
  },
  {
   "cell_type": "code",
   "execution_count": 2,
   "outputs": [],
   "source": [
    "# noise timestep\n",
    "timesteps = 300\n",
    "\n",
    "nucleotides = ['A', 'C', 'T', 'G']\n",
    "\n",
    "# define beta schedule\n",
    "betas = linear_beta_schedule(timesteps=timesteps, beta_end=0.05)\n",
    "\n",
    "# define alphas\n",
    "alphas = 1.0 - betas\n",
    "alphas_cumprod = torch.cumprod(alphas, axis=0)\n",
    "# pad\n",
    "alphas_cumprod_prev = F.pad(alphas_cumprod[:-1], (1, 0), value=1.0)\n",
    "sqrt_recip_alphas = torch.sqrt(1.0 / alphas)\n",
    "\n",
    "# calculations for diffusion q(x_t | x_{t-1}) and others\n",
    "sqrt_alphas_cumprod = torch.sqrt(alphas_cumprod)\n",
    "sqrt_one_minus_alphas_cumprod = torch.sqrt(1. - alphas_cumprod)\n",
    "\n",
    "# calculations for posterior q(x_{t-1} | x_t, x_0)\n",
    "posterior_variance = betas * (1. - alphas_cumprod_prev) / (1. - alphas_cumprod)\n",
    "\n",
    "name = []\n",
    "for i in range(64):\n",
    "    n = i\n",
    "    name.append(n)"
   ],
   "metadata": {
    "collapsed": false
   }
  },
  {
   "cell_type": "code",
   "execution_count": 3,
   "outputs": [],
   "source": [
    "def sampling_to_metric(model, seq_len, real_seq_len, save_name, number_of_samples=20, specific_group=False):\n",
    "    # Sampling regions using the trained  model\n",
    "    final_sequences = []\n",
    "    for n_a in tqdm_notebook(range(number_of_samples)):  # generating 20*10 sequences\n",
    "        # sampled_images = sample(model, image_size=image_size, batch_size=10, channels=1)\n",
    "        sampled_images = sample(model, image_size=seq_len, batch_size=32, channels=1, timesteps=timesteps, betas=betas,                         sqrt_one_minus_alphas_cumprod=sqrt_one_minus_alphas_cumprod,\n",
    "                         sqrt_recip_alphas=sqrt_recip_alphas,\n",
    "                         posterior_variance=posterior_variance)\n",
    "        # sampled_images = sampled_images\n",
    "\n",
    "        for x, n_b in zip(sampled_images[-1], name):\n",
    "            x = x[-1]\n",
    "            # print(x.shape)\n",
    "            seq_final = f'>seq_test_{n_a}_{n_b}\\n' + ''.join(\n",
    "                [nucleotides[s] for s in np.argmax(x.reshape(4, seq_len)[:, 0:real_seq_len], axis=0)]\n",
    "            )\n",
    "            final_sequences.append(seq_final)\n",
    "\n",
    "        # print(\"finsh{}\".format(n_a))\n",
    "\n",
    "        save_motifs_syn = open(save_name, 'w')\n",
    "\n",
    "        save_motifs_syn.write('\\n'.join(final_sequences))\n",
    "        save_motifs_syn.close()\n",
    "    return final_sequences"
   ],
   "metadata": {
    "collapsed": false
   }
  },
  {
   "cell_type": "code",
   "execution_count": 4,
   "outputs": [],
   "source": [
    "def generate_seq(model_name, seq_len, real_seq_len, save_name, seq_num):\n",
    "    # load model\n",
    "    device = \"cuda\" if torch.cuda.is_available() else \"cpu\"\n",
    "\n",
    "    model = Unet(dim=60, channels=1, dim_mults=(1, 2, 4), resnet_block_groups=1).cuda()\n",
    "\n",
    "    model.load_state_dict(torch.load(model_name))\n",
    "\n",
    "    model.to(device)\n",
    "\n",
    "    sampling_to_metric(model, seq_len, real_seq_len, save_name, number_of_samples=seq_num)\n",
    "\n"
   ],
   "metadata": {
    "collapsed": false
   }
  },
  {
   "cell_type": "code",
   "execution_count": 14,
   "outputs": [],
   "source": [],
   "metadata": {
    "collapsed": false
   }
  },
  {
   "cell_type": "code",
   "execution_count": 6,
   "outputs": [
    {
     "name": "stdout",
     "output_type": "stream",
     "text": [
      "60 init_dim\n",
      "Conv2d(2, 60, kernel_size=(7, 7), stride=(1, 1), padding=(3, 3))\n",
      "final 60 1 Conv2d(60, 1, kernel_size=(1, 1), stride=(1, 1))\n"
     ]
    },
    {
     "name": "stderr",
     "output_type": "stream",
     "text": [
      "C:\\Users\\lin\\AppData\\Local\\Temp\\ipykernel_19472\\991083742.py:4: TqdmDeprecationWarning: This function will be removed in tqdm==5.0.0\n",
      "Please use `tqdm.notebook.tqdm` instead of `tqdm.tqdm_notebook`\n",
      "  for n_a in tqdm_notebook(range(number_of_samples)):  # generating 20*10 sequences\n"
     ]
    },
    {
     "data": {
      "text/plain": "  0%|          | 0/50 [00:00<?, ?it/s]",
      "application/vnd.jupyter.widget-view+json": {
       "version_major": 2,
       "version_minor": 0,
       "model_id": "f5b0d88be3e54f23bd7485a65c8cf201"
      }
     },
     "metadata": {},
     "output_type": "display_data"
    },
    {
     "name": "stdout",
     "output_type": "stream",
     "text": [
      "60 init_dim\n",
      "Conv2d(2, 60, kernel_size=(7, 7), stride=(1, 1), padding=(3, 3))\n",
      "final 60 1 Conv2d(60, 1, kernel_size=(1, 1), stride=(1, 1))\n"
     ]
    },
    {
     "data": {
      "text/plain": "  0%|          | 0/50 [00:00<?, ?it/s]",
      "application/vnd.jupyter.widget-view+json": {
       "version_major": 2,
       "version_minor": 0,
       "model_id": "4ff3023ca69843b7a12b273887b2ac8b"
      }
     },
     "metadata": {},
     "output_type": "display_data"
    },
    {
     "name": "stdout",
     "output_type": "stream",
     "text": [
      "60 init_dim\n",
      "Conv2d(2, 60, kernel_size=(7, 7), stride=(1, 1), padding=(3, 3))\n",
      "final 60 1 Conv2d(60, 1, kernel_size=(1, 1), stride=(1, 1))\n"
     ]
    },
    {
     "data": {
      "text/plain": "  0%|          | 0/50 [00:00<?, ?it/s]",
      "application/vnd.jupyter.widget-view+json": {
       "version_major": 2,
       "version_minor": 0,
       "model_id": "ab2fe898a6e2455a93e734c8393efcd7"
      }
     },
     "metadata": {},
     "output_type": "display_data"
    },
    {
     "name": "stdout",
     "output_type": "stream",
     "text": [
      "60 init_dim\n",
      "Conv2d(2, 60, kernel_size=(7, 7), stride=(1, 1), padding=(3, 3))\n",
      "final 60 1 Conv2d(60, 1, kernel_size=(1, 1), stride=(1, 1))\n"
     ]
    },
    {
     "data": {
      "text/plain": "  0%|          | 0/50 [00:00<?, ?it/s]",
      "application/vnd.jupyter.widget-view+json": {
       "version_major": 2,
       "version_minor": 0,
       "model_id": "a499866997b44cdc892c817c1bfa6c4a"
      }
     },
     "metadata": {},
     "output_type": "display_data"
    },
    {
     "name": "stdout",
     "output_type": "stream",
     "text": [
      "60 init_dim\n",
      "Conv2d(2, 60, kernel_size=(7, 7), stride=(1, 1), padding=(3, 3))\n",
      "final 60 1 Conv2d(60, 1, kernel_size=(1, 1), stride=(1, 1))\n"
     ]
    },
    {
     "data": {
      "text/plain": "  0%|          | 0/50 [00:00<?, ?it/s]",
      "application/vnd.jupyter.widget-view+json": {
       "version_major": 2,
       "version_minor": 0,
       "model_id": "fc85e0923c7d49ed9092f7a19b809e3b"
      }
     },
     "metadata": {},
     "output_type": "display_data"
    },
    {
     "name": "stdout",
     "output_type": "stream",
     "text": [
      "60 init_dim\n",
      "Conv2d(2, 60, kernel_size=(7, 7), stride=(1, 1), padding=(3, 3))\n",
      "final 60 1 Conv2d(60, 1, kernel_size=(1, 1), stride=(1, 1))\n"
     ]
    },
    {
     "data": {
      "text/plain": "  0%|          | 0/50 [00:00<?, ?it/s]",
      "application/vnd.jupyter.widget-view+json": {
       "version_major": 2,
       "version_minor": 0,
       "model_id": "bbdd40e2695149eca80ac23f25f5a2a9"
      }
     },
     "metadata": {},
     "output_type": "display_data"
    },
    {
     "name": "stdout",
     "output_type": "stream",
     "text": [
      "60 init_dim\n",
      "Conv2d(2, 60, kernel_size=(7, 7), stride=(1, 1), padding=(3, 3))\n",
      "final 60 1 Conv2d(60, 1, kernel_size=(1, 1), stride=(1, 1))\n"
     ]
    },
    {
     "data": {
      "text/plain": "  0%|          | 0/50 [00:00<?, ?it/s]",
      "application/vnd.jupyter.widget-view+json": {
       "version_major": 2,
       "version_minor": 0,
       "model_id": "815b3465d3974b9aa6e745961953759d"
      }
     },
     "metadata": {},
     "output_type": "display_data"
    },
    {
     "name": "stdout",
     "output_type": "stream",
     "text": [
      "60 init_dim\n",
      "Conv2d(2, 60, kernel_size=(7, 7), stride=(1, 1), padding=(3, 3))\n",
      "final 60 1 Conv2d(60, 1, kernel_size=(1, 1), stride=(1, 1))\n"
     ]
    },
    {
     "data": {
      "text/plain": "  0%|          | 0/50 [00:00<?, ?it/s]",
      "application/vnd.jupyter.widget-view+json": {
       "version_major": 2,
       "version_minor": 0,
       "model_id": "8d61c41cde324b72a986946a39b10d2a"
      }
     },
     "metadata": {},
     "output_type": "display_data"
    },
    {
     "name": "stdout",
     "output_type": "stream",
     "text": [
      "60 init_dim\n",
      "Conv2d(2, 60, kernel_size=(7, 7), stride=(1, 1), padding=(3, 3))\n",
      "final 60 1 Conv2d(60, 1, kernel_size=(1, 1), stride=(1, 1))\n"
     ]
    },
    {
     "data": {
      "text/plain": "  0%|          | 0/50 [00:00<?, ?it/s]",
      "application/vnd.jupyter.widget-view+json": {
       "version_major": 2,
       "version_minor": 0,
       "model_id": "4d7bfa93fc284f889eb6bdf270113e9a"
      }
     },
     "metadata": {},
     "output_type": "display_data"
    },
    {
     "name": "stdout",
     "output_type": "stream",
     "text": [
      "60 init_dim\n",
      "Conv2d(2, 60, kernel_size=(7, 7), stride=(1, 1), padding=(3, 3))\n",
      "final 60 1 Conv2d(60, 1, kernel_size=(1, 1), stride=(1, 1))\n"
     ]
    },
    {
     "data": {
      "text/plain": "  0%|          | 0/50 [00:00<?, ?it/s]",
      "application/vnd.jupyter.widget-view+json": {
       "version_major": 2,
       "version_minor": 0,
       "model_id": "f3347d36735d426aa3cd57adb65d6c09"
      }
     },
     "metadata": {},
     "output_type": "display_data"
    },
    {
     "name": "stdout",
     "output_type": "stream",
     "text": [
      "60 init_dim\n",
      "Conv2d(2, 60, kernel_size=(7, 7), stride=(1, 1), padding=(3, 3))\n",
      "final 60 1 Conv2d(60, 1, kernel_size=(1, 1), stride=(1, 1))\n"
     ]
    },
    {
     "data": {
      "text/plain": "  0%|          | 0/50 [00:00<?, ?it/s]",
      "application/vnd.jupyter.widget-view+json": {
       "version_major": 2,
       "version_minor": 0,
       "model_id": "ba1e51889fc34c9a92b3690a46d7be3d"
      }
     },
     "metadata": {},
     "output_type": "display_data"
    },
    {
     "name": "stdout",
     "output_type": "stream",
     "text": [
      "60 init_dim\n",
      "Conv2d(2, 60, kernel_size=(7, 7), stride=(1, 1), padding=(3, 3))\n",
      "final 60 1 Conv2d(60, 1, kernel_size=(1, 1), stride=(1, 1))\n"
     ]
    },
    {
     "data": {
      "text/plain": "  0%|          | 0/50 [00:00<?, ?it/s]",
      "application/vnd.jupyter.widget-view+json": {
       "version_major": 2,
       "version_minor": 0,
       "model_id": "3dd2268883f947588b780b27807a2626"
      }
     },
     "metadata": {},
     "output_type": "display_data"
    },
    {
     "name": "stdout",
     "output_type": "stream",
     "text": [
      "60 init_dim\n",
      "Conv2d(2, 60, kernel_size=(7, 7), stride=(1, 1), padding=(3, 3))\n",
      "final 60 1 Conv2d(60, 1, kernel_size=(1, 1), stride=(1, 1))\n"
     ]
    },
    {
     "data": {
      "text/plain": "  0%|          | 0/50 [00:00<?, ?it/s]",
      "application/vnd.jupyter.widget-view+json": {
       "version_major": 2,
       "version_minor": 0,
       "model_id": "ebdb26405246494e944c7227afb75d9b"
      }
     },
     "metadata": {},
     "output_type": "display_data"
    }
   ],
   "source": [
    "for i in range(130):\n",
    "    if i % 10 == 9:\n",
    "        generate_seq(\"model/promoter_1/model_epoch_{}.pth\".format(i), 52, 50, \"syn_seq/promoter_1/new_seq_epoch_{}.fasta\".format(i), 50)"
   ],
   "metadata": {
    "collapsed": false
   }
  },
  {
   "cell_type": "code",
   "execution_count": 7,
   "outputs": [
    {
     "name": "stdout",
     "output_type": "stream",
     "text": [
      "60 init_dim\n",
      "Conv2d(2, 60, kernel_size=(7, 7), stride=(1, 1), padding=(3, 3))\n",
      "final 60 1 Conv2d(60, 1, kernel_size=(1, 1), stride=(1, 1))\n"
     ]
    },
    {
     "name": "stderr",
     "output_type": "stream",
     "text": [
      "C:\\Users\\lin\\AppData\\Local\\Temp\\ipykernel_19472\\991083742.py:4: TqdmDeprecationWarning: This function will be removed in tqdm==5.0.0\n",
      "Please use `tqdm.notebook.tqdm` instead of `tqdm.tqdm_notebook`\n",
      "  for n_a in tqdm_notebook(range(number_of_samples)):  # generating 20*10 sequences\n"
     ]
    },
    {
     "data": {
      "text/plain": "  0%|          | 0/50 [00:00<?, ?it/s]",
      "application/vnd.jupyter.widget-view+json": {
       "version_major": 2,
       "version_minor": 0,
       "model_id": "552b54c5d1f6496dbef6deca8bee5dc4"
      }
     },
     "metadata": {},
     "output_type": "display_data"
    },
    {
     "name": "stdout",
     "output_type": "stream",
     "text": [
      "60 init_dim\n",
      "Conv2d(2, 60, kernel_size=(7, 7), stride=(1, 1), padding=(3, 3))\n",
      "final 60 1 Conv2d(60, 1, kernel_size=(1, 1), stride=(1, 1))\n"
     ]
    },
    {
     "data": {
      "text/plain": "  0%|          | 0/50 [00:00<?, ?it/s]",
      "application/vnd.jupyter.widget-view+json": {
       "version_major": 2,
       "version_minor": 0,
       "model_id": "75f951156a6f4d82918e7618ad059330"
      }
     },
     "metadata": {},
     "output_type": "display_data"
    },
    {
     "name": "stdout",
     "output_type": "stream",
     "text": [
      "60 init_dim\n",
      "Conv2d(2, 60, kernel_size=(7, 7), stride=(1, 1), padding=(3, 3))\n",
      "final 60 1 Conv2d(60, 1, kernel_size=(1, 1), stride=(1, 1))\n"
     ]
    },
    {
     "data": {
      "text/plain": "  0%|          | 0/50 [00:00<?, ?it/s]",
      "application/vnd.jupyter.widget-view+json": {
       "version_major": 2,
       "version_minor": 0,
       "model_id": "cc75bec5a9b945b6bcf4a415b3657faf"
      }
     },
     "metadata": {},
     "output_type": "display_data"
    },
    {
     "name": "stdout",
     "output_type": "stream",
     "text": [
      "60 init_dim\n",
      "Conv2d(2, 60, kernel_size=(7, 7), stride=(1, 1), padding=(3, 3))\n",
      "final 60 1 Conv2d(60, 1, kernel_size=(1, 1), stride=(1, 1))\n"
     ]
    },
    {
     "data": {
      "text/plain": "  0%|          | 0/50 [00:00<?, ?it/s]",
      "application/vnd.jupyter.widget-view+json": {
       "version_major": 2,
       "version_minor": 0,
       "model_id": "9bceb98fac934f52a915d538a5706179"
      }
     },
     "metadata": {},
     "output_type": "display_data"
    },
    {
     "name": "stdout",
     "output_type": "stream",
     "text": [
      "60 init_dim\n",
      "Conv2d(2, 60, kernel_size=(7, 7), stride=(1, 1), padding=(3, 3))\n",
      "final 60 1 Conv2d(60, 1, kernel_size=(1, 1), stride=(1, 1))\n"
     ]
    },
    {
     "data": {
      "text/plain": "  0%|          | 0/50 [00:00<?, ?it/s]",
      "application/vnd.jupyter.widget-view+json": {
       "version_major": 2,
       "version_minor": 0,
       "model_id": "971c5bd948644dcd99bfa82620e3d6d9"
      }
     },
     "metadata": {},
     "output_type": "display_data"
    },
    {
     "name": "stdout",
     "output_type": "stream",
     "text": [
      "60 init_dim\n",
      "Conv2d(2, 60, kernel_size=(7, 7), stride=(1, 1), padding=(3, 3))\n",
      "final 60 1 Conv2d(60, 1, kernel_size=(1, 1), stride=(1, 1))\n"
     ]
    },
    {
     "data": {
      "text/plain": "  0%|          | 0/50 [00:00<?, ?it/s]",
      "application/vnd.jupyter.widget-view+json": {
       "version_major": 2,
       "version_minor": 0,
       "model_id": "6e4bb73905164c2ab58c50a60c18e515"
      }
     },
     "metadata": {},
     "output_type": "display_data"
    },
    {
     "name": "stdout",
     "output_type": "stream",
     "text": [
      "60 init_dim\n",
      "Conv2d(2, 60, kernel_size=(7, 7), stride=(1, 1), padding=(3, 3))\n",
      "final 60 1 Conv2d(60, 1, kernel_size=(1, 1), stride=(1, 1))\n"
     ]
    },
    {
     "data": {
      "text/plain": "  0%|          | 0/50 [00:00<?, ?it/s]",
      "application/vnd.jupyter.widget-view+json": {
       "version_major": 2,
       "version_minor": 0,
       "model_id": "92b9577ebf8f4021a5fd4293dec7722e"
      }
     },
     "metadata": {},
     "output_type": "display_data"
    },
    {
     "name": "stdout",
     "output_type": "stream",
     "text": [
      "60 init_dim\n",
      "Conv2d(2, 60, kernel_size=(7, 7), stride=(1, 1), padding=(3, 3))\n",
      "final 60 1 Conv2d(60, 1, kernel_size=(1, 1), stride=(1, 1))\n"
     ]
    },
    {
     "data": {
      "text/plain": "  0%|          | 0/50 [00:00<?, ?it/s]",
      "application/vnd.jupyter.widget-view+json": {
       "version_major": 2,
       "version_minor": 0,
       "model_id": "f86fba43993d47b5b46d417371466ca3"
      }
     },
     "metadata": {},
     "output_type": "display_data"
    },
    {
     "name": "stdout",
     "output_type": "stream",
     "text": [
      "60 init_dim\n",
      "Conv2d(2, 60, kernel_size=(7, 7), stride=(1, 1), padding=(3, 3))\n",
      "final 60 1 Conv2d(60, 1, kernel_size=(1, 1), stride=(1, 1))\n"
     ]
    },
    {
     "data": {
      "text/plain": "  0%|          | 0/50 [00:00<?, ?it/s]",
      "application/vnd.jupyter.widget-view+json": {
       "version_major": 2,
       "version_minor": 0,
       "model_id": "55c20c50407541b08fa0742758cf55fc"
      }
     },
     "metadata": {},
     "output_type": "display_data"
    },
    {
     "name": "stdout",
     "output_type": "stream",
     "text": [
      "60 init_dim\n",
      "Conv2d(2, 60, kernel_size=(7, 7), stride=(1, 1), padding=(3, 3))\n",
      "final 60 1 Conv2d(60, 1, kernel_size=(1, 1), stride=(1, 1))\n"
     ]
    },
    {
     "data": {
      "text/plain": "  0%|          | 0/50 [00:00<?, ?it/s]",
      "application/vnd.jupyter.widget-view+json": {
       "version_major": 2,
       "version_minor": 0,
       "model_id": "196d3c029a7f4e24952b2c9c5aaaaddb"
      }
     },
     "metadata": {},
     "output_type": "display_data"
    },
    {
     "name": "stdout",
     "output_type": "stream",
     "text": [
      "60 init_dim\n",
      "Conv2d(2, 60, kernel_size=(7, 7), stride=(1, 1), padding=(3, 3))\n",
      "final 60 1 Conv2d(60, 1, kernel_size=(1, 1), stride=(1, 1))\n"
     ]
    },
    {
     "data": {
      "text/plain": "  0%|          | 0/50 [00:00<?, ?it/s]",
      "application/vnd.jupyter.widget-view+json": {
       "version_major": 2,
       "version_minor": 0,
       "model_id": "c3e53ce72ef445839aa4810bff5c38cd"
      }
     },
     "metadata": {},
     "output_type": "display_data"
    },
    {
     "name": "stdout",
     "output_type": "stream",
     "text": [
      "60 init_dim\n",
      "Conv2d(2, 60, kernel_size=(7, 7), stride=(1, 1), padding=(3, 3))\n",
      "final 60 1 Conv2d(60, 1, kernel_size=(1, 1), stride=(1, 1))\n"
     ]
    },
    {
     "data": {
      "text/plain": "  0%|          | 0/50 [00:00<?, ?it/s]",
      "application/vnd.jupyter.widget-view+json": {
       "version_major": 2,
       "version_minor": 0,
       "model_id": "6d5cfe96a2d548c5845a133ab34a2223"
      }
     },
     "metadata": {},
     "output_type": "display_data"
    },
    {
     "name": "stdout",
     "output_type": "stream",
     "text": [
      "60 init_dim\n",
      "Conv2d(2, 60, kernel_size=(7, 7), stride=(1, 1), padding=(3, 3))\n",
      "final 60 1 Conv2d(60, 1, kernel_size=(1, 1), stride=(1, 1))\n"
     ]
    },
    {
     "data": {
      "text/plain": "  0%|          | 0/50 [00:00<?, ?it/s]",
      "application/vnd.jupyter.widget-view+json": {
       "version_major": 2,
       "version_minor": 0,
       "model_id": "623f7e4c7dbf488d86b3e804085b3586"
      }
     },
     "metadata": {},
     "output_type": "display_data"
    }
   ],
   "source": [
    "for i in range(130):\n",
    "    if i % 10 == 9:\n",
    "        generate_seq(\"model/promoter_3/model_epoch_{}.pth\".format(i), 120, 118, \"syn_seq/promoter_3/new_seq_epoch_{}.fasta\".format(i), 50)"
   ],
   "metadata": {
    "collapsed": false
   }
  },
  {
   "cell_type": "code",
   "execution_count": 8,
   "outputs": [
    {
     "name": "stdout",
     "output_type": "stream",
     "text": [
      "60 init_dim\n",
      "Conv2d(2, 60, kernel_size=(7, 7), stride=(1, 1), padding=(3, 3))\n",
      "final 60 1 Conv2d(60, 1, kernel_size=(1, 1), stride=(1, 1))\n"
     ]
    },
    {
     "name": "stderr",
     "output_type": "stream",
     "text": [
      "C:\\Users\\lin\\AppData\\Local\\Temp\\ipykernel_19472\\991083742.py:4: TqdmDeprecationWarning: This function will be removed in tqdm==5.0.0\n",
      "Please use `tqdm.notebook.tqdm` instead of `tqdm.tqdm_notebook`\n",
      "  for n_a in tqdm_notebook(range(number_of_samples)):  # generating 20*10 sequences\n"
     ]
    },
    {
     "data": {
      "text/plain": "  0%|          | 0/50 [00:00<?, ?it/s]",
      "application/vnd.jupyter.widget-view+json": {
       "version_major": 2,
       "version_minor": 0,
       "model_id": "ee9bb53e19c4424ea283e49ef2d5f0cc"
      }
     },
     "metadata": {},
     "output_type": "display_data"
    },
    {
     "name": "stdout",
     "output_type": "stream",
     "text": [
      "60 init_dim\n",
      "Conv2d(2, 60, kernel_size=(7, 7), stride=(1, 1), padding=(3, 3))\n",
      "final 60 1 Conv2d(60, 1, kernel_size=(1, 1), stride=(1, 1))\n"
     ]
    },
    {
     "data": {
      "text/plain": "  0%|          | 0/50 [00:00<?, ?it/s]",
      "application/vnd.jupyter.widget-view+json": {
       "version_major": 2,
       "version_minor": 0,
       "model_id": "86dc3be361b645a79e9f2a54ee441fc2"
      }
     },
     "metadata": {},
     "output_type": "display_data"
    },
    {
     "name": "stdout",
     "output_type": "stream",
     "text": [
      "60 init_dim\n",
      "Conv2d(2, 60, kernel_size=(7, 7), stride=(1, 1), padding=(3, 3))\n",
      "final 60 1 Conv2d(60, 1, kernel_size=(1, 1), stride=(1, 1))\n"
     ]
    },
    {
     "data": {
      "text/plain": "  0%|          | 0/50 [00:00<?, ?it/s]",
      "application/vnd.jupyter.widget-view+json": {
       "version_major": 2,
       "version_minor": 0,
       "model_id": "0c9a2cf812e1492e914a8d038e7e40ec"
      }
     },
     "metadata": {},
     "output_type": "display_data"
    },
    {
     "name": "stdout",
     "output_type": "stream",
     "text": [
      "60 init_dim\n",
      "Conv2d(2, 60, kernel_size=(7, 7), stride=(1, 1), padding=(3, 3))\n",
      "final 60 1 Conv2d(60, 1, kernel_size=(1, 1), stride=(1, 1))\n"
     ]
    },
    {
     "data": {
      "text/plain": "  0%|          | 0/50 [00:00<?, ?it/s]",
      "application/vnd.jupyter.widget-view+json": {
       "version_major": 2,
       "version_minor": 0,
       "model_id": "f655f4a8a7d6488eb6ecd81c1a59fc76"
      }
     },
     "metadata": {},
     "output_type": "display_data"
    },
    {
     "name": "stdout",
     "output_type": "stream",
     "text": [
      "60 init_dim\n",
      "Conv2d(2, 60, kernel_size=(7, 7), stride=(1, 1), padding=(3, 3))\n",
      "final 60 1 Conv2d(60, 1, kernel_size=(1, 1), stride=(1, 1))\n"
     ]
    },
    {
     "data": {
      "text/plain": "  0%|          | 0/50 [00:00<?, ?it/s]",
      "application/vnd.jupyter.widget-view+json": {
       "version_major": 2,
       "version_minor": 0,
       "model_id": "6c27ff060852477f8c03c25473b98372"
      }
     },
     "metadata": {},
     "output_type": "display_data"
    },
    {
     "name": "stdout",
     "output_type": "stream",
     "text": [
      "60 init_dim\n",
      "Conv2d(2, 60, kernel_size=(7, 7), stride=(1, 1), padding=(3, 3))\n",
      "final 60 1 Conv2d(60, 1, kernel_size=(1, 1), stride=(1, 1))\n"
     ]
    },
    {
     "data": {
      "text/plain": "  0%|          | 0/50 [00:00<?, ?it/s]",
      "application/vnd.jupyter.widget-view+json": {
       "version_major": 2,
       "version_minor": 0,
       "model_id": "291434cff2de4b98ad6a1005e19be52b"
      }
     },
     "metadata": {},
     "output_type": "display_data"
    },
    {
     "name": "stdout",
     "output_type": "stream",
     "text": [
      "60 init_dim\n",
      "Conv2d(2, 60, kernel_size=(7, 7), stride=(1, 1), padding=(3, 3))\n",
      "final 60 1 Conv2d(60, 1, kernel_size=(1, 1), stride=(1, 1))\n"
     ]
    },
    {
     "data": {
      "text/plain": "  0%|          | 0/50 [00:00<?, ?it/s]",
      "application/vnd.jupyter.widget-view+json": {
       "version_major": 2,
       "version_minor": 0,
       "model_id": "64de06966b8945b6b9a575d7367c9e2c"
      }
     },
     "metadata": {},
     "output_type": "display_data"
    },
    {
     "name": "stdout",
     "output_type": "stream",
     "text": [
      "60 init_dim\n",
      "Conv2d(2, 60, kernel_size=(7, 7), stride=(1, 1), padding=(3, 3))\n",
      "final 60 1 Conv2d(60, 1, kernel_size=(1, 1), stride=(1, 1))\n"
     ]
    },
    {
     "data": {
      "text/plain": "  0%|          | 0/50 [00:00<?, ?it/s]",
      "application/vnd.jupyter.widget-view+json": {
       "version_major": 2,
       "version_minor": 0,
       "model_id": "39995718b3664f3498b194b779137e21"
      }
     },
     "metadata": {},
     "output_type": "display_data"
    },
    {
     "name": "stdout",
     "output_type": "stream",
     "text": [
      "60 init_dim\n",
      "Conv2d(2, 60, kernel_size=(7, 7), stride=(1, 1), padding=(3, 3))\n",
      "final 60 1 Conv2d(60, 1, kernel_size=(1, 1), stride=(1, 1))\n"
     ]
    },
    {
     "data": {
      "text/plain": "  0%|          | 0/50 [00:00<?, ?it/s]",
      "application/vnd.jupyter.widget-view+json": {
       "version_major": 2,
       "version_minor": 0,
       "model_id": "48fffc45fd08417ca93048be723a713d"
      }
     },
     "metadata": {},
     "output_type": "display_data"
    },
    {
     "name": "stdout",
     "output_type": "stream",
     "text": [
      "60 init_dim\n",
      "Conv2d(2, 60, kernel_size=(7, 7), stride=(1, 1), padding=(3, 3))\n",
      "final 60 1 Conv2d(60, 1, kernel_size=(1, 1), stride=(1, 1))\n"
     ]
    },
    {
     "data": {
      "text/plain": "  0%|          | 0/50 [00:00<?, ?it/s]",
      "application/vnd.jupyter.widget-view+json": {
       "version_major": 2,
       "version_minor": 0,
       "model_id": "314d0e59b0454f58bc6f6ca197481511"
      }
     },
     "metadata": {},
     "output_type": "display_data"
    },
    {
     "name": "stdout",
     "output_type": "stream",
     "text": [
      "60 init_dim\n",
      "Conv2d(2, 60, kernel_size=(7, 7), stride=(1, 1), padding=(3, 3))\n",
      "final 60 1 Conv2d(60, 1, kernel_size=(1, 1), stride=(1, 1))\n"
     ]
    },
    {
     "data": {
      "text/plain": "  0%|          | 0/50 [00:00<?, ?it/s]",
      "application/vnd.jupyter.widget-view+json": {
       "version_major": 2,
       "version_minor": 0,
       "model_id": "0b30d97c6e444b6a82d7fcfb17667de6"
      }
     },
     "metadata": {},
     "output_type": "display_data"
    },
    {
     "name": "stdout",
     "output_type": "stream",
     "text": [
      "60 init_dim\n",
      "Conv2d(2, 60, kernel_size=(7, 7), stride=(1, 1), padding=(3, 3))\n",
      "final 60 1 Conv2d(60, 1, kernel_size=(1, 1), stride=(1, 1))\n"
     ]
    },
    {
     "data": {
      "text/plain": "  0%|          | 0/50 [00:00<?, ?it/s]",
      "application/vnd.jupyter.widget-view+json": {
       "version_major": 2,
       "version_minor": 0,
       "model_id": "843f8c72e8b54ae5aaedaa82c18fd17d"
      }
     },
     "metadata": {},
     "output_type": "display_data"
    },
    {
     "name": "stdout",
     "output_type": "stream",
     "text": [
      "60 init_dim\n",
      "Conv2d(2, 60, kernel_size=(7, 7), stride=(1, 1), padding=(3, 3))\n",
      "final 60 1 Conv2d(60, 1, kernel_size=(1, 1), stride=(1, 1))\n"
     ]
    },
    {
     "data": {
      "text/plain": "  0%|          | 0/50 [00:00<?, ?it/s]",
      "application/vnd.jupyter.widget-view+json": {
       "version_major": 2,
       "version_minor": 0,
       "model_id": "b5ea63b9ddda44b8b2de1d8f83f8bdc6"
      }
     },
     "metadata": {},
     "output_type": "display_data"
    }
   ],
   "source": [
    "for i in range(130):\n",
    "    if i % 10 == 9:\n",
    "        generate_seq(\"model/promoter_2/model_epoch_{}.pth\".format(i), 168, 165, \"syn_seq/promoter_2/new_seq_epoch_{}.fasta\".format(i), 50)"
   ],
   "metadata": {
    "collapsed": false
   }
  },
  {
   "cell_type": "code",
   "execution_count": 6,
   "outputs": [
    {
     "name": "stdout",
     "output_type": "stream",
     "text": [
      "60 init_dim\n",
      "Conv2d(2, 60, kernel_size=(7, 7), stride=(1, 1), padding=(3, 3))\n",
      "final 60 1 Conv2d(60, 1, kernel_size=(1, 1), stride=(1, 1))\n"
     ]
    },
    {
     "name": "stderr",
     "output_type": "stream",
     "text": [
      "C:\\Users\\lin\\AppData\\Local\\Temp\\ipykernel_30212\\1731484470.py:4: TqdmDeprecationWarning: This function will be removed in tqdm==5.0.0\n",
      "Please use `tqdm.notebook.tqdm` instead of `tqdm.tqdm_notebook`\n",
      "  for n_a in tqdm_notebook(range(number_of_samples)):  # generating 20*10 sequences\n"
     ]
    },
    {
     "data": {
      "text/plain": "  0%|          | 0/1000 [00:00<?, ?it/s]",
      "application/vnd.jupyter.widget-view+json": {
       "version_major": 2,
       "version_minor": 0,
       "model_id": "29d9d0d047244496941a9f15e8c68325"
      }
     },
     "metadata": {},
     "output_type": "display_data"
    },
    {
     "name": "stdout",
     "output_type": "stream",
     "text": [
      "60 init_dim\n",
      "Conv2d(2, 60, kernel_size=(7, 7), stride=(1, 1), padding=(3, 3))\n",
      "final 60 1 Conv2d(60, 1, kernel_size=(1, 1), stride=(1, 1))\n"
     ]
    },
    {
     "data": {
      "text/plain": "  0%|          | 0/1000 [00:00<?, ?it/s]",
      "application/vnd.jupyter.widget-view+json": {
       "version_major": 2,
       "version_minor": 0,
       "model_id": "3a67f15fd6294f7491c167659526834a"
      }
     },
     "metadata": {},
     "output_type": "display_data"
    },
    {
     "name": "stdout",
     "output_type": "stream",
     "text": [
      "60 init_dim\n",
      "Conv2d(2, 60, kernel_size=(7, 7), stride=(1, 1), padding=(3, 3))\n",
      "final 60 1 Conv2d(60, 1, kernel_size=(1, 1), stride=(1, 1))\n"
     ]
    },
    {
     "data": {
      "text/plain": "  0%|          | 0/1000 [00:00<?, ?it/s]",
      "application/vnd.jupyter.widget-view+json": {
       "version_major": 2,
       "version_minor": 0,
       "model_id": "83de462c3c294ce496f2dc0ce5a96e1d"
      }
     },
     "metadata": {},
     "output_type": "display_data"
    },
    {
     "name": "stdout",
     "output_type": "stream",
     "text": [
      "60 init_dim\n",
      "Conv2d(2, 60, kernel_size=(7, 7), stride=(1, 1), padding=(3, 3))\n",
      "final 60 1 Conv2d(60, 1, kernel_size=(1, 1), stride=(1, 1))\n"
     ]
    },
    {
     "data": {
      "text/plain": "  0%|          | 0/1000 [00:00<?, ?it/s]",
      "application/vnd.jupyter.widget-view+json": {
       "version_major": 2,
       "version_minor": 0,
       "model_id": "707e411b6b2a48db947d272ceb0c5356"
      }
     },
     "metadata": {},
     "output_type": "display_data"
    },
    {
     "name": "stdout",
     "output_type": "stream",
     "text": [
      "60 init_dim\n",
      "Conv2d(2, 60, kernel_size=(7, 7), stride=(1, 1), padding=(3, 3))\n",
      "final 60 1 Conv2d(60, 1, kernel_size=(1, 1), stride=(1, 1))\n"
     ]
    },
    {
     "data": {
      "text/plain": "  0%|          | 0/1000 [00:00<?, ?it/s]",
      "application/vnd.jupyter.widget-view+json": {
       "version_major": 2,
       "version_minor": 0,
       "model_id": "1e2780af753e4d7a81d36db262d708bb"
      }
     },
     "metadata": {},
     "output_type": "display_data"
    },
    {
     "name": "stdout",
     "output_type": "stream",
     "text": [
      "60 init_dim\n",
      "Conv2d(2, 60, kernel_size=(7, 7), stride=(1, 1), padding=(3, 3))\n",
      "final 60 1 Conv2d(60, 1, kernel_size=(1, 1), stride=(1, 1))\n"
     ]
    },
    {
     "data": {
      "text/plain": "  0%|          | 0/1000 [00:00<?, ?it/s]",
      "application/vnd.jupyter.widget-view+json": {
       "version_major": 2,
       "version_minor": 0,
       "model_id": "02393128b4c2498491930d54ad197434"
      }
     },
     "metadata": {},
     "output_type": "display_data"
    },
    {
     "name": "stdout",
     "output_type": "stream",
     "text": [
      "60 init_dim\n",
      "Conv2d(2, 60, kernel_size=(7, 7), stride=(1, 1), padding=(3, 3))\n",
      "final 60 1 Conv2d(60, 1, kernel_size=(1, 1), stride=(1, 1))\n"
     ]
    },
    {
     "data": {
      "text/plain": "  0%|          | 0/1000 [00:00<?, ?it/s]",
      "application/vnd.jupyter.widget-view+json": {
       "version_major": 2,
       "version_minor": 0,
       "model_id": "8f0ab5b875464e1089be3f949cb5e6b7"
      }
     },
     "metadata": {},
     "output_type": "display_data"
    }
   ],
   "source": [
    "generate_seq(\"model/promoter_1/model_epoch_14.pth\", 52, 50, \"syn_seq/promoter_1/seq_epoch_14.fasta\", 1000)\n",
    "generate_seq(\"model/promoter_1/model_epoch_10.pth\", 52, 50, \"syn_seq/promoter_1/seq_epoch_10.fasta\", 1000)\n",
    "generate_seq(\"model/promoter_1/model_epoch_18.pth\", 52, 50, \"syn_seq/promoter_1/seq_epoch_18.fasta\", 1000)\n",
    "generate_seq(\"model/promoter_1/model_epoch_0.pth\", 52, 50, \"syn_seq/promoter_1/seq_epoch_0.fasta\", 1000)\n",
    "generate_seq(\"model/promoter_2/model_epoch_19.pth\", 52, 50, \"syn_seq/promoter_2/seq_epoch_19.fasta\", 1000)\n",
    "generate_seq(\"model/promoter_2/model_epoch_14.pth\", 52, 50, \"syn_seq/promoter_2/seq_epoch_14.fasta\", 1000)\n",
    "generate_seq(\"model/promoter_2/model_epoch_10.pth\", 52, 50, \"syn_seq/promoter_2/seq_epoch_10.fasta\", 1000)\n",
    "\n"
   ],
   "metadata": {
    "collapsed": false
   }
  },
  {
   "cell_type": "code",
   "execution_count": null,
   "outputs": [],
   "source": [],
   "metadata": {
    "collapsed": false
   }
  }
 ],
 "metadata": {
  "kernelspec": {
   "display_name": "Python 3",
   "language": "python",
   "name": "python3"
  },
  "language_info": {
   "codemirror_mode": {
    "name": "ipython",
    "version": 2
   },
   "file_extension": ".py",
   "mimetype": "text/x-python",
   "name": "python",
   "nbconvert_exporter": "python",
   "pygments_lexer": "ipython2",
   "version": "2.7.6"
  }
 },
 "nbformat": 4,
 "nbformat_minor": 0
}
